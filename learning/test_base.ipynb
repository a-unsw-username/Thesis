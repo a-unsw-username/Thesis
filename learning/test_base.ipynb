{
 "cells": [
  {
   "cell_type": "code",
   "execution_count": 6,
   "metadata": {},
   "outputs": [
    {
     "name": "stderr",
     "output_type": "stream",
     "text": [
      "d:\\Users\\andrew\\anaconda3\\lib\\site-packages\\transformers\\modeling_utils.py:1439: FutureWarning: You are using `torch.load` with `weights_only=False` (the current default value), which uses the default pickle module implicitly. It is possible to construct malicious pickle data which will execute arbitrary code during unpickling (See https://github.com/pytorch/pytorch/blob/main/SECURITY.md#untrusted-models for more details). In a future release, the default value for `weights_only` will be flipped to `True`. This limits the functions that could be executed during unpickling. Arbitrary objects will no longer be allowed to be loaded via this mode unless they are explicitly allowlisted by the user via `torch.serialization.add_safe_globals`. We recommend you start setting `weights_only=True` for any use case where you don't have full control of the loaded file. Please open an issue on GitHub for any issues related to this experimental feature.\n",
      "  state_dict = torch.load(resolved_archive_file, map_location=\"cpu\")\n",
      "d:\\Users\\andrew\\anaconda3\\lib\\site-packages\\torch\\nn\\utils\\weight_norm.py:143: FutureWarning: `torch.nn.utils.weight_norm` is deprecated in favor of `torch.nn.utils.parametrizations.weight_norm`.\n",
      "  WeightNorm.apply(module, name, dim)\n",
      "Some weights of Wav2Vec2ForCTC were not initialized from the model checkpoint at facebook/wav2vec2-base-960h and are newly initialized: ['wav2vec2.masked_spec_embed']\n",
      "You should probably TRAIN this model on a down-stream task to be able to use it for predictions and inference.\n"
     ]
    }
   ],
   "source": [
    "from transformers import Wav2Vec2Processor\n",
    "from transformers import Wav2Vec2ForCTC\n",
    "from transformers import Wav2Vec2CTCTokenizer\n",
    "base_model = \"facebook/wav2vec2-base-960h\" \n",
    "\n",
    "processor = Wav2Vec2Processor.from_pretrained(base_model)\n",
    "model = Wav2Vec2ForCTC.from_pretrained(base_model)\n",
    "tokenizer = Wav2Vec2CTCTokenizer.from_pretrained(base_model)\n"
   ]
  },
  {
   "cell_type": "code",
   "execution_count": 7,
   "metadata": {},
   "outputs": [
    {
     "data": {
      "text/plain": [
       "{'<pad>': 0,\n",
       " '<s>': 1,\n",
       " '</s>': 2,\n",
       " '<unk>': 3,\n",
       " '|': 4,\n",
       " 'E': 5,\n",
       " 'T': 6,\n",
       " 'A': 7,\n",
       " 'O': 8,\n",
       " 'N': 9,\n",
       " 'I': 10,\n",
       " 'H': 11,\n",
       " 'S': 12,\n",
       " 'R': 13,\n",
       " 'D': 14,\n",
       " 'L': 15,\n",
       " 'U': 16,\n",
       " 'M': 17,\n",
       " 'W': 18,\n",
       " 'C': 19,\n",
       " 'F': 20,\n",
       " 'G': 21,\n",
       " 'Y': 22,\n",
       " 'P': 23,\n",
       " 'B': 24,\n",
       " 'V': 25,\n",
       " 'K': 26,\n",
       " \"'\": 27,\n",
       " 'X': 28,\n",
       " 'J': 29,\n",
       " 'Q': 30,\n",
       " 'Z': 31}"
      ]
     },
     "execution_count": 7,
     "metadata": {},
     "output_type": "execute_result"
    }
   ],
   "source": [
    "tokenizer.get_vocab()"
   ]
  },
  {
   "cell_type": "code",
   "execution_count": null,
   "metadata": {},
   "outputs": [],
   "source": []
  }
 ],
 "metadata": {
  "kernelspec": {
   "display_name": "base",
   "language": "python",
   "name": "python3"
  },
  "language_info": {
   "codemirror_mode": {
    "name": "ipython",
    "version": 3
   },
   "file_extension": ".py",
   "mimetype": "text/x-python",
   "name": "python",
   "nbconvert_exporter": "python",
   "pygments_lexer": "ipython3",
   "version": "3.9.12"
  }
 },
 "nbformat": 4,
 "nbformat_minor": 2
}
