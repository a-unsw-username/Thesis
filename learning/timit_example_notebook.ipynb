{
 "cells": [
  {
   "cell_type": "code",
   "execution_count": null,
   "metadata": {},
   "outputs": [
    {
     "name": "stderr",
     "output_type": "stream",
     "text": [
      "Reusing dataset timit_asr (C:\\Users\\andre\\.cache\\huggingface\\datasets\\timit_asr\\clean\\2.0.1\\b11b576ddcccbcefa7c9f0c4e6c2a43756f3033adffe0fb686aa61043d0450ad)\n"
     ]
    },
    {
     "data": {
      "application/vnd.jupyter.widget-view+json": {
       "model_id": "7567e15ea10d457a961aa2555e67cf87",
       "version_major": 2,
       "version_minor": 0
      },
      "text/plain": [
       "  0%|          | 0/2 [00:00<?, ?it/s]"
      ]
     },
     "metadata": {},
     "output_type": "display_data"
    }
   ],
   "source": [
    "from datasets import load_dataset, load_metric, load_from_disk\n",
    "from datasets import ClassLabel\n",
    "import random\n",
    "import pandas as pd\n",
    "import numpy as np\n",
    "from IPython.display import display, HTML\n",
    "from transformers import Wav2Vec2CTCTokenizer\n",
    "from transformers import Wav2Vec2FeatureExtractor\n",
    "from transformers import Wav2Vec2Processor\n",
    "from transformers import Trainer\n",
    "\n",
    "\n",
    "#model_fp = \"/srv/scratch/z5363024/thesis/timit_test\"\n",
    "model_fp = \"D:/Users/andrew/uni_work/thesis/code/timit_test\"\n",
    "finetuned_results_fp = model_fp + 'finetuned_results.csv'\n",
    "dataset_fp = 'D:/Users/andrew/uni_work/thesis/code/timit_test/timit'\n",
    "\n",
    "timit = load_dataset(\"timit_asr\")  # Load the dataset from Hugging Face\n",
    "#timit.save_to_disk(dataset_fp)\n",
    "#timit = load_from_disk(dataset_fp)\n",
    "\n",
    "#timit = load_dataset(\"arrow\", data_files={\n",
    "#    \"train\": [dataset_fp + '/train/data-00000-of-00005.arrow', dataset_fp + '/train/data-00001-of-00005.arrow', \n",
    "#    dataset_fp + '/train/data-00002-of-00005.arrow', dataset_fp + '/train/data-00003-of-00005.arrow', \n",
    "#    dataset_fp + '/train/data-00004-of-00005.arrow'], \n",
    "#    \"test\": [dataset_fp + '/test/data-00000-of-00002.arrow', dataset_fp + '/test/data-00001-of-00002.arrow']}\n",
    "#    )\n",
    "\n",
    "#timit_train = load_from_disk(dataset_fp + '_mostafa/train')\n",
    "\n",
    "\n",
    "timit = timit.remove_columns([\"phonetic_detail\", \"word_detail\", \"dialect_region\", \"id\", \"sentence_type\", \"speaker_id\"])\n"
   ]
  },
  {
   "cell_type": "code",
   "execution_count": 2,
   "metadata": {},
   "outputs": [
    {
     "data": {
      "text/html": [
       "<table border=\"1\" class=\"dataframe\">\n",
       "  <thead>\n",
       "    <tr style=\"text-align: right;\">\n",
       "      <th></th>\n",
       "      <th>text</th>\n",
       "    </tr>\n",
       "  </thead>\n",
       "  <tbody>\n",
       "    <tr>\n",
       "      <th>0</th>\n",
       "      <td>We now generalize these ideas for general binomial experiments.</td>\n",
       "    </tr>\n",
       "    <tr>\n",
       "      <th>1</th>\n",
       "      <td>The cow wandered from the farmland and became lost.</td>\n",
       "    </tr>\n",
       "    <tr>\n",
       "      <th>2</th>\n",
       "      <td>Replace it with the statue of one or another of the world's famous dictators.</td>\n",
       "    </tr>\n",
       "    <tr>\n",
       "      <th>3</th>\n",
       "      <td>She had your dark suit in greasy wash water all year.</td>\n",
       "    </tr>\n",
       "    <tr>\n",
       "      <th>4</th>\n",
       "      <td>When all else fails, use force.</td>\n",
       "    </tr>\n",
       "    <tr>\n",
       "      <th>5</th>\n",
       "      <td>Don't ask me to carry an oily rag like that.</td>\n",
       "    </tr>\n",
       "    <tr>\n",
       "      <th>6</th>\n",
       "      <td>Etiquette mandates compliance with existing regulations.</td>\n",
       "    </tr>\n",
       "    <tr>\n",
       "      <th>7</th>\n",
       "      <td>She had your dark suit in greasy wash water all year.</td>\n",
       "    </tr>\n",
       "    <tr>\n",
       "      <th>8</th>\n",
       "      <td>It gave her a lewd, winking effect.</td>\n",
       "    </tr>\n",
       "    <tr>\n",
       "      <th>9</th>\n",
       "      <td>Don't ask me to carry an oily rag like that.</td>\n",
       "    </tr>\n",
       "  </tbody>\n",
       "</table>"
      ],
      "text/plain": [
       "<IPython.core.display.HTML object>"
      ]
     },
     "metadata": {},
     "output_type": "display_data"
    }
   ],
   "source": [
    "# display random samples\n",
    "def show_random_elements(dataset, num_examples=10):\n",
    "    assert num_examples <= len(dataset), \"Can't pick more elements than there are in the dataset.\"\n",
    "    picks = []\n",
    "    for _ in range(num_examples):\n",
    "        pick = random.randint(0, len(dataset)-1)\n",
    "        while pick in picks:\n",
    "            pick = random.randint(0, len(dataset)-1)\n",
    "        picks.append(pick)\n",
    "    \n",
    "    df = pd.DataFrame(dataset[picks])\n",
    "    display(HTML(df.to_html()))\n",
    "\n",
    "show_random_elements(timit[\"train\"].remove_columns([\"audio\", \"file\"]), num_examples=10)"
   ]
  },
  {
   "cell_type": "code",
   "execution_count": 3,
   "metadata": {},
   "outputs": [
    {
     "name": "stderr",
     "output_type": "stream",
     "text": [
      "Parameter 'function'=<function remove_special_characters at 0x000001555826BB80> of the transform datasets.arrow_dataset.Dataset._map_single couldn't be hashed properly, a random hash was used instead. Make sure your transforms and parameters are serializable with pickle or dill for the dataset fingerprinting and caching to work. If you reuse this transform, the caching mechanism will consider it to be different from the previous calls and recompute everything. This warning is only showed once. Subsequent hashing failures won't be showed.\n"
     ]
    },
    {
     "data": {
      "application/vnd.jupyter.widget-view+json": {
       "model_id": "e70921801fde4a1cbdd0e7535fc878c3",
       "version_major": 2,
       "version_minor": 0
      },
      "text/plain": [
       "0ex [00:00, ?ex/s]"
      ]
     },
     "metadata": {},
     "output_type": "display_data"
    },
    {
     "data": {
      "application/vnd.jupyter.widget-view+json": {
       "model_id": "703097e9d68f4ec58dbf1bd2a4abe833",
       "version_major": 2,
       "version_minor": 0
      },
      "text/plain": [
       "0ex [00:00, ?ex/s]"
      ]
     },
     "metadata": {},
     "output_type": "display_data"
    },
    {
     "data": {
      "text/html": [
       "<table border=\"1\" class=\"dataframe\">\n",
       "  <thead>\n",
       "    <tr style=\"text-align: right;\">\n",
       "      <th></th>\n",
       "      <th>text</th>\n",
       "    </tr>\n",
       "  </thead>\n",
       "  <tbody>\n",
       "    <tr>\n",
       "      <th>0</th>\n",
       "      <td>in simpler terms it amounts to pointing the platform in the proper direction</td>\n",
       "    </tr>\n",
       "    <tr>\n",
       "      <th>1</th>\n",
       "      <td>a moth zigzagged along the path through otto's garden</td>\n",
       "    </tr>\n",
       "    <tr>\n",
       "      <th>2</th>\n",
       "      <td>the thick elm forest was nearly overwhelmed by dutch elm disease</td>\n",
       "    </tr>\n",
       "    <tr>\n",
       "      <th>3</th>\n",
       "      <td>we could barely see the fjords through the snow flurries</td>\n",
       "    </tr>\n",
       "    <tr>\n",
       "      <th>4</th>\n",
       "      <td>todd placed top priority on getting his bike fixed</td>\n",
       "    </tr>\n",
       "    <tr>\n",
       "      <th>5</th>\n",
       "      <td>the full moon shone brightly that night</td>\n",
       "    </tr>\n",
       "    <tr>\n",
       "      <th>6</th>\n",
       "      <td>they all like long hot showers</td>\n",
       "    </tr>\n",
       "    <tr>\n",
       "      <th>7</th>\n",
       "      <td>being based on so few events these results are of dubious validity</td>\n",
       "    </tr>\n",
       "    <tr>\n",
       "      <th>8</th>\n",
       "      <td>hey come back he shouted</td>\n",
       "    </tr>\n",
       "    <tr>\n",
       "      <th>9</th>\n",
       "      <td>at intervals an alumni directory is issued</td>\n",
       "    </tr>\n",
       "  </tbody>\n",
       "</table>"
      ],
      "text/plain": [
       "<IPython.core.display.HTML object>"
      ]
     },
     "metadata": {},
     "output_type": "display_data"
    }
   ],
   "source": [
    "# remove special characters and make lowercase\n",
    "import re\n",
    "\n",
    "def remove_special_characters(batch):\n",
    "    chars_to_ignore_regex = '[\\,\\?\\.\\!\\-\\;\\:\\\"]'\n",
    "    batch[\"text\"] = re.sub(chars_to_ignore_regex, '', batch[\"text\"]).lower() + \" \"\n",
    "    return batch\n",
    "\n",
    "timit = timit.map(remove_special_characters)\n",
    "show_random_elements(timit[\"train\"].remove_columns([\"audio\", \"file\"])) # check text"
   ]
  },
  {
   "cell_type": "code",
   "execution_count": 4,
   "metadata": {},
   "outputs": [],
   "source": [
    "def extract_all_chars(batch):\n",
    "  all_text = \" \".join(batch[\"text\"])\n",
    "  vocab = list(set(all_text))\n",
    "  return {\"vocab\": [vocab], \"all_text\": [all_text]}"
   ]
  },
  {
   "cell_type": "code",
   "execution_count": 5,
   "metadata": {},
   "outputs": [
    {
     "data": {
      "application/vnd.jupyter.widget-view+json": {
       "model_id": "126bf3e3232d47498efac5ab4f829fe4",
       "version_major": 2,
       "version_minor": 0
      },
      "text/plain": [
       "  0%|          | 0/1 [00:00<?, ?ba/s]"
      ]
     },
     "metadata": {},
     "output_type": "display_data"
    },
    {
     "data": {
      "application/vnd.jupyter.widget-view+json": {
       "model_id": "af5b428a79a14c0eada95258b0885c4b",
       "version_major": 2,
       "version_minor": 0
      },
      "text/plain": [
       "  0%|          | 0/1 [00:00<?, ?ba/s]"
      ]
     },
     "metadata": {},
     "output_type": "display_data"
    }
   ],
   "source": [
    "# not really sure if this stuff is necessary or was shown for learning\n",
    "vocabs = timit.map(extract_all_chars, batched=True, batch_size=-1, keep_in_memory=True, remove_columns=timit.column_names[\"train\"])"
   ]
  },
  {
   "cell_type": "code",
   "execution_count": 6,
   "metadata": {},
   "outputs": [],
   "source": [
    "vocab_list = list(set(vocabs[\"train\"][\"vocab\"][0]) | set(vocabs[\"test\"][\"vocab\"][0]))"
   ]
  },
  {
   "cell_type": "code",
   "execution_count": 7,
   "metadata": {},
   "outputs": [
    {
     "data": {
      "text/plain": [
       "{'l': 0,\n",
       " 'n': 1,\n",
       " \"'\": 2,\n",
       " 'c': 3,\n",
       " 'h': 4,\n",
       " 'p': 5,\n",
       " 'u': 6,\n",
       " 'd': 7,\n",
       " 'a': 8,\n",
       " 'g': 9,\n",
       " 'v': 10,\n",
       " 'j': 11,\n",
       " 'y': 12,\n",
       " ' ': 13,\n",
       " 'x': 14,\n",
       " 'w': 15,\n",
       " 'o': 16,\n",
       " 'k': 17,\n",
       " 'm': 18,\n",
       " 'i': 19,\n",
       " 'e': 20,\n",
       " 's': 21,\n",
       " 'b': 22,\n",
       " 'f': 23,\n",
       " 'q': 24,\n",
       " 'z': 25,\n",
       " 't': 26,\n",
       " 'r': 27}"
      ]
     },
     "execution_count": 7,
     "metadata": {},
     "output_type": "execute_result"
    }
   ],
   "source": [
    "vocab_dict = {v: k for k, v in enumerate(vocab_list)}\n",
    "vocab_dict"
   ]
  },
  {
   "cell_type": "code",
   "execution_count": 8,
   "metadata": {},
   "outputs": [],
   "source": [
    "vocab_dict[\"|\"] = vocab_dict[\" \"]\n",
    "del vocab_dict[\" \"]"
   ]
  },
  {
   "cell_type": "code",
   "execution_count": 9,
   "metadata": {},
   "outputs": [
    {
     "data": {
      "text/plain": [
       "30"
      ]
     },
     "execution_count": 9,
     "metadata": {},
     "output_type": "execute_result"
    }
   ],
   "source": [
    "\n",
    "vocab_dict[\"[UNK]\"] = len(vocab_dict)\n",
    "vocab_dict[\"[PAD]\"] = len(vocab_dict)\n",
    "len(vocab_dict)"
   ]
  },
  {
   "cell_type": "code",
   "execution_count": 10,
   "metadata": {},
   "outputs": [],
   "source": [
    "# not sure if this stuff will work\n",
    "import json\n",
    "with open('vocab.json', 'w') as vocab_file:\n",
    "    json.dump(vocab_dict, vocab_file)\n"
   ]
  },
  {
   "cell_type": "code",
   "execution_count": 11,
   "metadata": {},
   "outputs": [],
   "source": [
    "\n",
    "tokenizer = Wav2Vec2CTCTokenizer(\"./vocab.json\", unk_token=\"[UNK]\", pad_token=\"[PAD]\", word_delimiter_token=\"|\")\n"
   ]
  },
  {
   "cell_type": "code",
   "execution_count": 12,
   "metadata": {},
   "outputs": [],
   "source": [
    "\n",
    "feature_extractor = Wav2Vec2FeatureExtractor(feature_size=1, sampling_rate=16000, padding_value=0.0, do_normalize=True, return_attention_mask=False)\n"
   ]
  },
  {
   "cell_type": "code",
   "execution_count": 13,
   "metadata": {},
   "outputs": [],
   "source": [
    "\n",
    "processor = Wav2Vec2Processor(feature_extractor=feature_extractor, tokenizer=tokenizer)"
   ]
  },
  {
   "cell_type": "code",
   "execution_count": 14,
   "metadata": {},
   "outputs": [
    {
     "data": {
      "text/plain": [
       "'C:\\\\Users\\\\andre\\\\.cache\\\\huggingface\\\\datasets\\\\downloads\\\\extracted\\\\c19a2fc53975ac1b608d4cad910e3c20adfdf1687e74862fe790181ebf3b943a\\\\data\\\\TRAIN\\\\DR4\\\\MMDM0\\\\SI681.WAV'"
      ]
     },
     "execution_count": 14,
     "metadata": {},
     "output_type": "execute_result"
    }
   ],
   "source": [
    "timit[\"train\"][0][\"file\"]"
   ]
  },
  {
   "cell_type": "code",
   "execution_count": 15,
   "metadata": {},
   "outputs": [
    {
     "data": {
      "text/plain": [
       "{'path': 'C:\\\\Users\\\\andre\\\\.cache\\\\huggingface\\\\datasets\\\\downloads\\\\extracted\\\\c19a2fc53975ac1b608d4cad910e3c20adfdf1687e74862fe790181ebf3b943a\\\\data\\\\TRAIN\\\\DR4\\\\MMDM0\\\\SI681.WAV',\n",
       " 'array': array([-2.1362305e-04,  6.1035156e-05,  3.0517578e-05, ...,\n",
       "        -3.0517578e-05, -9.1552734e-05, -6.1035156e-05], dtype=float32),\n",
       " 'sampling_rate': 16000}"
      ]
     },
     "execution_count": 15,
     "metadata": {},
     "output_type": "execute_result"
    }
   ],
   "source": [
    "timit[\"train\"][0][\"audio\"]"
   ]
  },
  {
   "cell_type": "code",
   "execution_count": 16,
   "metadata": {},
   "outputs": [
    {
     "name": "stdout",
     "output_type": "stream",
     "text": [
      "the boston ballet overcame their funding shortage \n"
     ]
    },
    {
     "data": {
      "text/html": [
       "\n",
       "                <audio  controls=\"controls\" autoplay=\"autoplay\">\n",
       "                    <source src=\"data:audio/wav;base64,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\" type=\"audio/wav\" />\n",
       "                    Your browser does not support the audio element.\n",
       "                </audio>\n",
       "              "
      ],
      "text/plain": [
       "<IPython.lib.display.Audio object>"
      ]
     },
     "execution_count": 16,
     "metadata": {},
     "output_type": "execute_result"
    }
   ],
   "source": [
    "# checking audio\n",
    "import IPython.display as ipd\n",
    "import numpy as np\n",
    "import random\n",
    "\n",
    "rand_int = random.randint(0, len(timit[\"train\"]))\n",
    "\n",
    "print(timit[\"train\"][rand_int][\"text\"])\n",
    "ipd.Audio(data=np.asarray(timit[\"train\"][rand_int][\"audio\"][\"array\"]), autoplay=True, rate=16000)"
   ]
  },
  {
   "cell_type": "code",
   "execution_count": 17,
   "metadata": {},
   "outputs": [
    {
     "name": "stdout",
     "output_type": "stream",
     "text": [
      "Target text: regular attendance is seldom required \n",
      "Input array shape: (33895,)\n",
      "Sampling rate: 16000\n"
     ]
    }
   ],
   "source": [
    "# checking sample\n",
    "rand_int = random.randint(0, len(timit[\"train\"]))\n",
    "\n",
    "print(\"Target text:\", timit[\"train\"][rand_int][\"text\"])\n",
    "print(\"Input array shape:\", np.asarray(timit[\"train\"][rand_int][\"audio\"][\"array\"]).shape)\n",
    "print(\"Sampling rate:\", timit[\"train\"][rand_int][\"audio\"][\"sampling_rate\"])"
   ]
  },
  {
   "cell_type": "code",
   "execution_count": 18,
   "metadata": {},
   "outputs": [],
   "source": [
    "def prepare_dataset(batch):\n",
    "    audio = batch[\"audio\"]\n",
    "\n",
    "    # batched output is \"un-batched\" to ensure mapping is correct\n",
    "    batch[\"input_values\"] = processor(audio[\"array\"], sampling_rate=audio[\"sampling_rate\"]).input_values[0]\n",
    "    batch[\"input_length\"] = len(batch[\"input_values\"])\n",
    "    \n",
    "    with processor.as_target_processor():\n",
    "        batch[\"labels\"] = processor(batch[\"text\"]).input_ids\n",
    "    return batch\n"
   ]
  },
  {
   "cell_type": "code",
   "execution_count": 19,
   "metadata": {},
   "outputs": [
    {
     "data": {
      "application/vnd.jupyter.widget-view+json": {
       "model_id": "069a8a386d424356bbcffeb5e095adf0",
       "version_major": 2,
       "version_minor": 0
      },
      "text/plain": [
       "0ex [00:00, ?ex/s]"
      ]
     },
     "metadata": {},
     "output_type": "display_data"
    },
    {
     "data": {
      "application/vnd.jupyter.widget-view+json": {
       "model_id": "b2a0430a19c34fdaa9b6271c2a3d2fb8",
       "version_major": 2,
       "version_minor": 0
      },
      "text/plain": [
       "0ex [00:00, ?ex/s]"
      ]
     },
     "metadata": {},
     "output_type": "display_data"
    }
   ],
   "source": [
    "\n",
    "timit = timit.map(prepare_dataset, remove_columns=timit.column_names[\"train\"])#, num_proc=4)"
   ]
  },
  {
   "cell_type": "code",
   "execution_count": 20,
   "metadata": {},
   "outputs": [
    {
     "data": {
      "application/vnd.jupyter.widget-view+json": {
       "model_id": "cca037a27ac447e588025fb2e85486ce",
       "version_major": 2,
       "version_minor": 0
      },
      "text/plain": [
       "  0%|          | 0/5 [00:00<?, ?ba/s]"
      ]
     },
     "metadata": {},
     "output_type": "display_data"
    }
   ],
   "source": [
    "# everything above 4 seconds is filtered out to minimise memory usage\n",
    "max_input_length_in_sec = 4.0\n",
    "timit[\"train\"] = timit[\"train\"].filter(lambda x: x < max_input_length_in_sec * processor.feature_extractor.sampling_rate, input_columns=[\"input_length\"])"
   ]
  },
  {
   "cell_type": "code",
   "execution_count": 21,
   "metadata": {},
   "outputs": [],
   "source": [
    "# seems to be the way padding and masking is done\n",
    "import torch\n",
    "\n",
    "from dataclasses import dataclass, field\n",
    "from typing import Any, Dict, List, Optional, Union\n",
    "\n",
    "@dataclass\n",
    "class DataCollatorCTCWithPadding:\n",
    "    \"\"\"\n",
    "    Data collator that will dynamically pad the inputs received.\n",
    "    Args:\n",
    "        processor (:class:`~transformers.Wav2Vec2Processor`)\n",
    "            The processor used for proccessing the data.\n",
    "        padding (:obj:`bool`, :obj:`str` or :class:`~transformers.tokenization_utils_base.PaddingStrategy`, `optional`, defaults to :obj:`True`):\n",
    "            Select a strategy to pad the returned sequences (according to the model's padding side and padding index)\n",
    "            among:\n",
    "            * :obj:`True` or :obj:`'longest'`: Pad to the longest sequence in the batch (or no padding if only a single\n",
    "              sequence if provided).\n",
    "            * :obj:`'max_length'`: Pad to a maximum length specified with the argument :obj:`max_length` or to the\n",
    "              maximum acceptable input length for the model if that argument is not provided.\n",
    "            * :obj:`False` or :obj:`'do_not_pad'` (default): No padding (i.e., can output a batch with sequences of\n",
    "              different lengths).\n",
    "    \"\"\"\n",
    "\n",
    "    processor: Wav2Vec2Processor\n",
    "    padding: Union[bool, str] = True\n",
    "\n",
    "    def __call__(self, features: List[Dict[str, Union[List[int], torch.Tensor]]]) -> Dict[str, torch.Tensor]:\n",
    "        # split inputs and labels since they have to be of different lenghts and need\n",
    "        # different padding methods\n",
    "        input_features = [{\"input_values\": feature[\"input_values\"]} for feature in features]\n",
    "        label_features = [{\"input_ids\": feature[\"labels\"]} for feature in features]\n",
    "\n",
    "        batch = self.processor.pad(\n",
    "            input_features,\n",
    "            padding=self.padding,\n",
    "            return_tensors=\"pt\",\n",
    "        )\n",
    "        with self.processor.as_target_processor():\n",
    "            labels_batch = self.processor.pad(\n",
    "                label_features,\n",
    "                padding=self.padding,\n",
    "                return_tensors=\"pt\",\n",
    "            )\n",
    "\n",
    "        # replace padding with -100 to ignore loss correctly\n",
    "        labels = labels_batch[\"input_ids\"].masked_fill(labels_batch.attention_mask.ne(1), -100)\n",
    "\n",
    "        batch[\"labels\"] = labels\n",
    "\n",
    "        return batch"
   ]
  },
  {
   "cell_type": "code",
   "execution_count": 22,
   "metadata": {},
   "outputs": [],
   "source": [
    "data_collator = DataCollatorCTCWithPadding(processor=processor, padding=True)"
   ]
  },
  {
   "cell_type": "code",
   "execution_count": 23,
   "metadata": {},
   "outputs": [],
   "source": [
    "wer_metric = load_metric(\"wer\")"
   ]
  },
  {
   "cell_type": "code",
   "execution_count": 24,
   "metadata": {},
   "outputs": [],
   "source": [
    "\n",
    "def compute_metrics(pred):\n",
    "    pred_logits = pred.predictions\n",
    "    pred_ids = np.argmax(pred_logits, axis=-1)\n",
    "\n",
    "    pred.label_ids[pred.label_ids == -100] = processor.tokenizer.pad_token_id\n",
    "\n",
    "    pred_str = processor.batch_decode(pred_ids)\n",
    "    # we do not want to group tokens when computing the metrics\n",
    "    label_str = processor.batch_decode(pred.label_ids, group_tokens=False)\n",
    "\n",
    "    wer = wer_metric.compute(predictions=pred_str, references=label_str)\n",
    "\n",
    "    return {\"wer\": wer}"
   ]
  },
  {
   "cell_type": "code",
   "execution_count": 25,
   "metadata": {},
   "outputs": [
    {
     "name": "stderr",
     "output_type": "stream",
     "text": [
      "d:\\Users\\andrew\\anaconda3\\lib\\site-packages\\transformers\\configuration_utils.py:356: UserWarning: Passing `gradient_checkpointing` to a config initialization is deprecated and will be removed in v5 Transformers. Using `model.gradient_checkpointing_enable()` instead, or if you are using the `Trainer` API, pass `gradient_checkpointing=True` in your `TrainingArguments`.\n",
      "  warnings.warn(\n",
      "d:\\Users\\andrew\\anaconda3\\lib\\site-packages\\transformers\\modeling_utils.py:1439: FutureWarning: You are using `torch.load` with `weights_only=False` (the current default value), which uses the default pickle module implicitly. It is possible to construct malicious pickle data which will execute arbitrary code during unpickling (See https://github.com/pytorch/pytorch/blob/main/SECURITY.md#untrusted-models for more details). In a future release, the default value for `weights_only` will be flipped to `True`. This limits the functions that could be executed during unpickling. Arbitrary objects will no longer be allowed to be loaded via this mode unless they are explicitly allowlisted by the user via `torch.serialization.add_safe_globals`. We recommend you start setting `weights_only=True` for any use case where you don't have full control of the loaded file. Please open an issue on GitHub for any issues related to this experimental feature.\n",
      "  state_dict = torch.load(resolved_archive_file, map_location=\"cpu\")\n",
      "d:\\Users\\andrew\\anaconda3\\lib\\site-packages\\torch\\nn\\utils\\weight_norm.py:143: FutureWarning: `torch.nn.utils.weight_norm` is deprecated in favor of `torch.nn.utils.parametrizations.weight_norm`.\n",
      "  WeightNorm.apply(module, name, dim)\n",
      "Some weights of the model checkpoint at facebook/wav2vec2-base were not used when initializing Wav2Vec2ForCTC: ['quantizer.weight_proj.bias', 'quantizer.codevectors', 'project_hid.bias', 'project_hid.weight', 'project_q.weight', 'quantizer.weight_proj.weight', 'project_q.bias']\n",
      "- This IS expected if you are initializing Wav2Vec2ForCTC from the checkpoint of a model trained on another task or with another architecture (e.g. initializing a BertForSequenceClassification model from a BertForPreTraining model).\n",
      "- This IS NOT expected if you are initializing Wav2Vec2ForCTC from the checkpoint of a model that you expect to be exactly identical (initializing a BertForSequenceClassification model from a BertForSequenceClassification model).\n",
      "Some weights of Wav2Vec2ForCTC were not initialized from the model checkpoint at facebook/wav2vec2-base and are newly initialized: ['lm_head.bias', 'lm_head.weight']\n",
      "You should probably TRAIN this model on a down-stream task to be able to use it for predictions and inference.\n"
     ]
    }
   ],
   "source": [
    "from transformers import Wav2Vec2ForCTC\n",
    "\n",
    "model = Wav2Vec2ForCTC.from_pretrained(\n",
    "    \"facebook/wav2vec2-base\",\n",
    "    ctc_loss_reduction=\"mean\", \n",
    "    pad_token_id=processor.tokenizer.pad_token_id,\n",
    ")\n"
   ]
  },
  {
   "cell_type": "code",
   "execution_count": 26,
   "metadata": {},
   "outputs": [],
   "source": [
    "model.freeze_feature_encoder()"
   ]
  },
  {
   "cell_type": "code",
   "execution_count": 27,
   "metadata": {},
   "outputs": [],
   "source": [
    "# is said to be good for timit\n",
    "from transformers import TrainingArguments\n",
    "\n",
    "training_args = TrainingArguments(\n",
    "  output_dir=model_fp,\n",
    "  group_by_length=True,\n",
    "  per_device_train_batch_size=8,\n",
    "  evaluation_strategy=\"steps\",\n",
    "  num_train_epochs=30,\n",
    "  #fp16=True,\n",
    "  gradient_checkpointing=True,\n",
    "  save_steps=500,\n",
    "  eval_steps=500,\n",
    "  logging_steps=500,\n",
    "  learning_rate=1e-4,\n",
    "  weight_decay=0.005,\n",
    "  warmup_steps=1000,\n",
    "  save_total_limit=2,\n",
    ")\n"
   ]
  },
  {
   "cell_type": "code",
   "execution_count": 28,
   "metadata": {},
   "outputs": [],
   "source": [
    "\n",
    "trainer = Trainer(\n",
    "    model=model,\n",
    "    data_collator=data_collator,\n",
    "    args=training_args,\n",
    "    compute_metrics=compute_metrics,\n",
    "    train_dataset=timit[\"train\"],\n",
    "    eval_dataset=timit[\"test\"],\n",
    "    tokenizer=processor.feature_extractor,\n",
    ")"
   ]
  },
  {
   "cell_type": "code",
   "execution_count": 29,
   "metadata": {},
   "outputs": [
    {
     "name": "stderr",
     "output_type": "stream",
     "text": [
      "The following columns in the training set  don't have a corresponding argument in `Wav2Vec2ForCTC.forward` and have been ignored: input_length. If input_length are not expected by `Wav2Vec2ForCTC.forward`,  you can safely ignore this message.\n",
      "d:\\Users\\andrew\\anaconda3\\lib\\site-packages\\transformers\\optimization.py:306: FutureWarning: This implementation of AdamW is deprecated and will be removed in a future version. Use the PyTorch implementation torch.optim.AdamW instead, or set `no_deprecation_warning=True` to disable this warning\n",
      "  warnings.warn(\n",
      "***** Running training *****\n",
      "  Num examples = 3978\n",
      "  Num Epochs = 30\n",
      "  Instantaneous batch size per device = 8\n",
      "  Total train batch size (w. parallel, distributed & accumulation) = 8\n",
      "  Gradient Accumulation steps = 1\n",
      "  Total optimization steps = 14940\n"
     ]
    },
    {
     "data": {
      "application/vnd.jupyter.widget-view+json": {
       "model_id": "09bb6cf26fba4b6690b46520e682ab19",
       "version_major": 2,
       "version_minor": 0
      },
      "text/plain": [
       "  0%|          | 0/14940 [00:00<?, ?it/s]"
      ]
     },
     "metadata": {},
     "output_type": "display_data"
    },
    {
     "name": "stderr",
     "output_type": "stream",
     "text": [
      "d:\\Users\\andrew\\anaconda3\\lib\\site-packages\\torch\\_dynamo\\eval_frame.py:632: UserWarning: torch.utils.checkpoint: the use_reentrant parameter should be passed explicitly. In version 2.5 we will raise an exception if use_reentrant is not passed. use_reentrant=False is recommended, but if you need to preserve the current default behavior, you can pass use_reentrant=True. Refer to docs for more details on the differences between the two variants.\n",
      "  return fn(*args, **kwargs)\n",
      "The following columns in the evaluation set  don't have a corresponding argument in `Wav2Vec2ForCTC.forward` and have been ignored: input_length. If input_length are not expected by `Wav2Vec2ForCTC.forward`,  you can safely ignore this message.\n",
      "***** Running Evaluation *****\n",
      "  Num examples = 1680\n",
      "  Batch size = 8\n"
     ]
    },
    {
     "name": "stdout",
     "output_type": "stream",
     "text": [
      "{'loss': 3.5057, 'learning_rate': 5e-05, 'epoch': 1.0}\n"
     ]
    },
    {
     "data": {
      "application/vnd.jupyter.widget-view+json": {
       "model_id": "c9646e3aaa514a1894b0e91841ad74dc",
       "version_major": 2,
       "version_minor": 0
      },
      "text/plain": [
       "  0%|          | 0/210 [00:00<?, ?it/s]"
      ]
     },
     "metadata": {},
     "output_type": "display_data"
    },
    {
     "name": "stderr",
     "output_type": "stream",
     "text": [
      "Saving model checkpoint to D:/Users/andrew/uni_work/thesis/code/timit_test\\checkpoint-500\n",
      "Configuration saved in D:/Users/andrew/uni_work/thesis/code/timit_test\\checkpoint-500\\config.json\n"
     ]
    },
    {
     "name": "stdout",
     "output_type": "stream",
     "text": [
      "{'eval_loss': 2.3615028858184814, 'eval_wer': 1.0, 'eval_runtime': 439.9417, 'eval_samples_per_second': 3.819, 'eval_steps_per_second': 0.477, 'epoch': 1.0}\n"
     ]
    },
    {
     "name": "stderr",
     "output_type": "stream",
     "text": [
      "Model weights saved in D:/Users/andrew/uni_work/thesis/code/timit_test\\checkpoint-500\\pytorch_model.bin\n",
      "Feature extractor saved in D:/Users/andrew/uni_work/thesis/code/timit_test\\checkpoint-500\\preprocessor_config.json\n",
      "d:\\Users\\andrew\\anaconda3\\lib\\site-packages\\torch\\_dynamo\\eval_frame.py:632: UserWarning: torch.utils.checkpoint: the use_reentrant parameter should be passed explicitly. In version 2.5 we will raise an exception if use_reentrant is not passed. use_reentrant=False is recommended, but if you need to preserve the current default behavior, you can pass use_reentrant=True. Refer to docs for more details on the differences between the two variants.\n",
      "  return fn(*args, **kwargs)\n",
      "The following columns in the evaluation set  don't have a corresponding argument in `Wav2Vec2ForCTC.forward` and have been ignored: input_length. If input_length are not expected by `Wav2Vec2ForCTC.forward`,  you can safely ignore this message.\n",
      "***** Running Evaluation *****\n",
      "  Num examples = 1680\n",
      "  Batch size = 8\n"
     ]
    },
    {
     "name": "stdout",
     "output_type": "stream",
     "text": [
      "{'loss': 0.9612, 'learning_rate': 0.0001, 'epoch': 2.01}\n"
     ]
    },
    {
     "data": {
      "application/vnd.jupyter.widget-view+json": {
       "model_id": "06758c0f220148ea93ae62b96850a76d",
       "version_major": 2,
       "version_minor": 0
      },
      "text/plain": [
       "  0%|          | 0/210 [00:00<?, ?it/s]"
      ]
     },
     "metadata": {},
     "output_type": "display_data"
    },
    {
     "name": "stderr",
     "output_type": "stream",
     "text": [
      "Saving model checkpoint to D:/Users/andrew/uni_work/thesis/code/timit_test\\checkpoint-1000\n",
      "Configuration saved in D:/Users/andrew/uni_work/thesis/code/timit_test\\checkpoint-1000\\config.json\n"
     ]
    },
    {
     "name": "stdout",
     "output_type": "stream",
     "text": [
      "{'eval_loss': 0.601016640663147, 'eval_wer': 0.5366962993591069, 'eval_runtime': 438.2263, 'eval_samples_per_second': 3.834, 'eval_steps_per_second': 0.479, 'epoch': 2.01}\n"
     ]
    },
    {
     "name": "stderr",
     "output_type": "stream",
     "text": [
      "Model weights saved in D:/Users/andrew/uni_work/thesis/code/timit_test\\checkpoint-1000\\pytorch_model.bin\n",
      "Feature extractor saved in D:/Users/andrew/uni_work/thesis/code/timit_test\\checkpoint-1000\\preprocessor_config.json\n",
      "d:\\Users\\andrew\\anaconda3\\lib\\site-packages\\torch\\_dynamo\\eval_frame.py:632: UserWarning: torch.utils.checkpoint: the use_reentrant parameter should be passed explicitly. In version 2.5 we will raise an exception if use_reentrant is not passed. use_reentrant=False is recommended, but if you need to preserve the current default behavior, you can pass use_reentrant=True. Refer to docs for more details on the differences between the two variants.\n",
      "  return fn(*args, **kwargs)\n",
      "The following columns in the evaluation set  don't have a corresponding argument in `Wav2Vec2ForCTC.forward` and have been ignored: input_length. If input_length are not expected by `Wav2Vec2ForCTC.forward`,  you can safely ignore this message.\n",
      "***** Running Evaluation *****\n",
      "  Num examples = 1680\n",
      "  Batch size = 8\n"
     ]
    },
    {
     "name": "stdout",
     "output_type": "stream",
     "text": [
      "{'loss': 0.4448, 'learning_rate': 9.641319942611191e-05, 'epoch': 3.01}\n"
     ]
    },
    {
     "data": {
      "application/vnd.jupyter.widget-view+json": {
       "model_id": "34d259c336e641fcb26eacc65561cba3",
       "version_major": 2,
       "version_minor": 0
      },
      "text/plain": [
       "  0%|          | 0/210 [00:00<?, ?it/s]"
      ]
     },
     "metadata": {},
     "output_type": "display_data"
    },
    {
     "name": "stderr",
     "output_type": "stream",
     "text": [
      "Saving model checkpoint to D:/Users/andrew/uni_work/thesis/code/timit_test\\checkpoint-1500\n",
      "Configuration saved in D:/Users/andrew/uni_work/thesis/code/timit_test\\checkpoint-1500\\config.json\n"
     ]
    },
    {
     "name": "stdout",
     "output_type": "stream",
     "text": [
      "{'eval_loss': 0.44935935735702515, 'eval_wer': 0.46282130797326165, 'eval_runtime': 373.5438, 'eval_samples_per_second': 4.497, 'eval_steps_per_second': 0.562, 'epoch': 3.01}\n"
     ]
    },
    {
     "name": "stderr",
     "output_type": "stream",
     "text": [
      "Model weights saved in D:/Users/andrew/uni_work/thesis/code/timit_test\\checkpoint-1500\\pytorch_model.bin\n",
      "Feature extractor saved in D:/Users/andrew/uni_work/thesis/code/timit_test\\checkpoint-1500\\preprocessor_config.json\n",
      "Deleting older checkpoint [D:\\Users\\andrew\\uni_work\\thesis\\code\\timit_test\\checkpoint-500] due to args.save_total_limit\n",
      "d:\\Users\\andrew\\anaconda3\\lib\\site-packages\\torch\\_dynamo\\eval_frame.py:632: UserWarning: torch.utils.checkpoint: the use_reentrant parameter should be passed explicitly. In version 2.5 we will raise an exception if use_reentrant is not passed. use_reentrant=False is recommended, but if you need to preserve the current default behavior, you can pass use_reentrant=True. Refer to docs for more details on the differences between the two variants.\n",
      "  return fn(*args, **kwargs)\n",
      "The following columns in the evaluation set  don't have a corresponding argument in `Wav2Vec2ForCTC.forward` and have been ignored: input_length. If input_length are not expected by `Wav2Vec2ForCTC.forward`,  you can safely ignore this message.\n",
      "***** Running Evaluation *****\n",
      "  Num examples = 1680\n",
      "  Batch size = 8\n"
     ]
    },
    {
     "name": "stdout",
     "output_type": "stream",
     "text": [
      "{'loss': 0.299, 'learning_rate': 9.282639885222381e-05, 'epoch': 4.02}\n"
     ]
    },
    {
     "data": {
      "application/vnd.jupyter.widget-view+json": {
       "model_id": "a0c898835ad942efadcd21cadc4df993",
       "version_major": 2,
       "version_minor": 0
      },
      "text/plain": [
       "  0%|          | 0/210 [00:00<?, ?it/s]"
      ]
     },
     "metadata": {},
     "output_type": "display_data"
    },
    {
     "name": "stderr",
     "output_type": "stream",
     "text": [
      "Saving model checkpoint to D:/Users/andrew/uni_work/thesis/code/timit_test\\checkpoint-2000\n",
      "Configuration saved in D:/Users/andrew/uni_work/thesis/code/timit_test\\checkpoint-2000\\config.json\n"
     ]
    },
    {
     "name": "stdout",
     "output_type": "stream",
     "text": [
      "{'eval_loss': 0.44341522455215454, 'eval_wer': 0.4224381503686858, 'eval_runtime': 373.2958, 'eval_samples_per_second': 4.5, 'eval_steps_per_second': 0.563, 'epoch': 4.02}\n"
     ]
    },
    {
     "name": "stderr",
     "output_type": "stream",
     "text": [
      "Model weights saved in D:/Users/andrew/uni_work/thesis/code/timit_test\\checkpoint-2000\\pytorch_model.bin\n",
      "Feature extractor saved in D:/Users/andrew/uni_work/thesis/code/timit_test\\checkpoint-2000\\preprocessor_config.json\n",
      "Deleting older checkpoint [D:\\Users\\andrew\\uni_work\\thesis\\code\\timit_test\\checkpoint-1000] due to args.save_total_limit\n",
      "d:\\Users\\andrew\\anaconda3\\lib\\site-packages\\torch\\_dynamo\\eval_frame.py:632: UserWarning: torch.utils.checkpoint: the use_reentrant parameter should be passed explicitly. In version 2.5 we will raise an exception if use_reentrant is not passed. use_reentrant=False is recommended, but if you need to preserve the current default behavior, you can pass use_reentrant=True. Refer to docs for more details on the differences between the two variants.\n",
      "  return fn(*args, **kwargs)\n",
      "The following columns in the evaluation set  don't have a corresponding argument in `Wav2Vec2ForCTC.forward` and have been ignored: input_length. If input_length are not expected by `Wav2Vec2ForCTC.forward`,  you can safely ignore this message.\n",
      "***** Running Evaluation *****\n",
      "  Num examples = 1680\n",
      "  Batch size = 8\n"
     ]
    },
    {
     "name": "stdout",
     "output_type": "stream",
     "text": [
      "{'loss': 0.2267, 'learning_rate': 8.923959827833573e-05, 'epoch': 5.02}\n"
     ]
    },
    {
     "data": {
      "application/vnd.jupyter.widget-view+json": {
       "model_id": "6f0ed4bc2a1347b8a2e4c85bc9234c9c",
       "version_major": 2,
       "version_minor": 0
      },
      "text/plain": [
       "  0%|          | 0/210 [00:00<?, ?it/s]"
      ]
     },
     "metadata": {},
     "output_type": "display_data"
    },
    {
     "name": "stderr",
     "output_type": "stream",
     "text": [
      "Saving model checkpoint to D:/Users/andrew/uni_work/thesis/code/timit_test\\checkpoint-2500\n",
      "Configuration saved in D:/Users/andrew/uni_work/thesis/code/timit_test\\checkpoint-2500\\config.json\n"
     ]
    },
    {
     "name": "stdout",
     "output_type": "stream",
     "text": [
      "{'eval_loss': 0.45221781730651855, 'eval_wer': 0.4207153194128592, 'eval_runtime': 371.7607, 'eval_samples_per_second': 4.519, 'eval_steps_per_second': 0.565, 'epoch': 5.02}\n"
     ]
    },
    {
     "name": "stderr",
     "output_type": "stream",
     "text": [
      "Model weights saved in D:/Users/andrew/uni_work/thesis/code/timit_test\\checkpoint-2500\\pytorch_model.bin\n",
      "Feature extractor saved in D:/Users/andrew/uni_work/thesis/code/timit_test\\checkpoint-2500\\preprocessor_config.json\n",
      "Deleting older checkpoint [D:\\Users\\andrew\\uni_work\\thesis\\code\\timit_test\\checkpoint-1500] due to args.save_total_limit\n",
      "d:\\Users\\andrew\\anaconda3\\lib\\site-packages\\torch\\_dynamo\\eval_frame.py:632: UserWarning: torch.utils.checkpoint: the use_reentrant parameter should be passed explicitly. In version 2.5 we will raise an exception if use_reentrant is not passed. use_reentrant=False is recommended, but if you need to preserve the current default behavior, you can pass use_reentrant=True. Refer to docs for more details on the differences between the two variants.\n",
      "  return fn(*args, **kwargs)\n",
      "The following columns in the evaluation set  don't have a corresponding argument in `Wav2Vec2ForCTC.forward` and have been ignored: input_length. If input_length are not expected by `Wav2Vec2ForCTC.forward`,  you can safely ignore this message.\n",
      "***** Running Evaluation *****\n",
      "  Num examples = 1680\n",
      "  Batch size = 8\n"
     ]
    },
    {
     "name": "stdout",
     "output_type": "stream",
     "text": [
      "{'loss': 0.1891, 'learning_rate': 8.565279770444764e-05, 'epoch': 6.02}\n"
     ]
    },
    {
     "data": {
      "application/vnd.jupyter.widget-view+json": {
       "model_id": "57dc2027b4724083984bf43bc46af05f",
       "version_major": 2,
       "version_minor": 0
      },
      "text/plain": [
       "  0%|          | 0/210 [00:00<?, ?it/s]"
      ]
     },
     "metadata": {},
     "output_type": "display_data"
    },
    {
     "name": "stderr",
     "output_type": "stream",
     "text": [
      "Saving model checkpoint to D:/Users/andrew/uni_work/thesis/code/timit_test\\checkpoint-3000\n",
      "Configuration saved in D:/Users/andrew/uni_work/thesis/code/timit_test\\checkpoint-3000\\config.json\n"
     ]
    },
    {
     "name": "stdout",
     "output_type": "stream",
     "text": [
      "{'eval_loss': 0.43908873200416565, 'eval_wer': 0.39149610640203986, 'eval_runtime': 373.3045, 'eval_samples_per_second': 4.5, 'eval_steps_per_second': 0.563, 'epoch': 6.02}\n"
     ]
    },
    {
     "name": "stderr",
     "output_type": "stream",
     "text": [
      "Model weights saved in D:/Users/andrew/uni_work/thesis/code/timit_test\\checkpoint-3000\\pytorch_model.bin\n",
      "Feature extractor saved in D:/Users/andrew/uni_work/thesis/code/timit_test\\checkpoint-3000\\preprocessor_config.json\n",
      "Deleting older checkpoint [D:\\Users\\andrew\\uni_work\\thesis\\code\\timit_test\\checkpoint-2000] due to args.save_total_limit\n",
      "d:\\Users\\andrew\\anaconda3\\lib\\site-packages\\torch\\_dynamo\\eval_frame.py:632: UserWarning: torch.utils.checkpoint: the use_reentrant parameter should be passed explicitly. In version 2.5 we will raise an exception if use_reentrant is not passed. use_reentrant=False is recommended, but if you need to preserve the current default behavior, you can pass use_reentrant=True. Refer to docs for more details on the differences between the two variants.\n",
      "  return fn(*args, **kwargs)\n",
      "The following columns in the evaluation set  don't have a corresponding argument in `Wav2Vec2ForCTC.forward` and have been ignored: input_length. If input_length are not expected by `Wav2Vec2ForCTC.forward`,  you can safely ignore this message.\n",
      "***** Running Evaluation *****\n",
      "  Num examples = 1680\n",
      "  Batch size = 8\n"
     ]
    },
    {
     "name": "stdout",
     "output_type": "stream",
     "text": [
      "{'loss': 0.1586, 'learning_rate': 8.206599713055955e-05, 'epoch': 7.03}\n"
     ]
    },
    {
     "data": {
      "application/vnd.jupyter.widget-view+json": {
       "model_id": "e5f732d09b3342e68cafe1337810d895",
       "version_major": 2,
       "version_minor": 0
      },
      "text/plain": [
       "  0%|          | 0/210 [00:00<?, ?it/s]"
      ]
     },
     "metadata": {},
     "output_type": "display_data"
    },
    {
     "name": "stderr",
     "output_type": "stream",
     "text": [
      "Saving model checkpoint to D:/Users/andrew/uni_work/thesis/code/timit_test\\checkpoint-3500\n",
      "Configuration saved in D:/Users/andrew/uni_work/thesis/code/timit_test\\checkpoint-3500\\config.json\n"
     ]
    },
    {
     "name": "stdout",
     "output_type": "stream",
     "text": [
      "{'eval_loss': 0.4961005747318268, 'eval_wer': 0.3843291296258011, 'eval_runtime': 371.2685, 'eval_samples_per_second': 4.525, 'eval_steps_per_second': 0.566, 'epoch': 7.03}\n"
     ]
    },
    {
     "name": "stderr",
     "output_type": "stream",
     "text": [
      "Model weights saved in D:/Users/andrew/uni_work/thesis/code/timit_test\\checkpoint-3500\\pytorch_model.bin\n",
      "Feature extractor saved in D:/Users/andrew/uni_work/thesis/code/timit_test\\checkpoint-3500\\preprocessor_config.json\n",
      "Deleting older checkpoint [D:\\Users\\andrew\\uni_work\\thesis\\code\\timit_test\\checkpoint-2500] due to args.save_total_limit\n",
      "d:\\Users\\andrew\\anaconda3\\lib\\site-packages\\torch\\_dynamo\\eval_frame.py:632: UserWarning: torch.utils.checkpoint: the use_reentrant parameter should be passed explicitly. In version 2.5 we will raise an exception if use_reentrant is not passed. use_reentrant=False is recommended, but if you need to preserve the current default behavior, you can pass use_reentrant=True. Refer to docs for more details on the differences between the two variants.\n",
      "  return fn(*args, **kwargs)\n",
      "The following columns in the evaluation set  don't have a corresponding argument in `Wav2Vec2ForCTC.forward` and have been ignored: input_length. If input_length are not expected by `Wav2Vec2ForCTC.forward`,  you can safely ignore this message.\n",
      "***** Running Evaluation *****\n",
      "  Num examples = 1680\n",
      "  Batch size = 8\n"
     ]
    },
    {
     "name": "stdout",
     "output_type": "stream",
     "text": [
      "{'loss': 0.1457, 'learning_rate': 7.847919655667146e-05, 'epoch': 8.03}\n"
     ]
    },
    {
     "data": {
      "application/vnd.jupyter.widget-view+json": {
       "model_id": "31c2ccfe30ef4f6baf003bd45d7a21a8",
       "version_major": 2,
       "version_minor": 0
      },
      "text/plain": [
       "  0%|          | 0/210 [00:00<?, ?it/s]"
      ]
     },
     "metadata": {},
     "output_type": "display_data"
    },
    {
     "name": "stderr",
     "output_type": "stream",
     "text": [
      "Saving model checkpoint to D:/Users/andrew/uni_work/thesis/code/timit_test\\checkpoint-4000\n",
      "Configuration saved in D:/Users/andrew/uni_work/thesis/code/timit_test\\checkpoint-4000\\config.json\n"
     ]
    },
    {
     "name": "stdout",
     "output_type": "stream",
     "text": [
      "{'eval_loss': 0.46765556931495667, 'eval_wer': 0.3858452208669285, 'eval_runtime': 373.9822, 'eval_samples_per_second': 4.492, 'eval_steps_per_second': 0.562, 'epoch': 8.03}\n"
     ]
    },
    {
     "name": "stderr",
     "output_type": "stream",
     "text": [
      "Model weights saved in D:/Users/andrew/uni_work/thesis/code/timit_test\\checkpoint-4000\\pytorch_model.bin\n",
      "Feature extractor saved in D:/Users/andrew/uni_work/thesis/code/timit_test\\checkpoint-4000\\preprocessor_config.json\n",
      "Deleting older checkpoint [D:\\Users\\andrew\\uni_work\\thesis\\code\\timit_test\\checkpoint-3000] due to args.save_total_limit\n",
      "d:\\Users\\andrew\\anaconda3\\lib\\site-packages\\torch\\_dynamo\\eval_frame.py:632: UserWarning: torch.utils.checkpoint: the use_reentrant parameter should be passed explicitly. In version 2.5 we will raise an exception if use_reentrant is not passed. use_reentrant=False is recommended, but if you need to preserve the current default behavior, you can pass use_reentrant=True. Refer to docs for more details on the differences between the two variants.\n",
      "  return fn(*args, **kwargs)\n",
      "The following columns in the evaluation set  don't have a corresponding argument in `Wav2Vec2ForCTC.forward` and have been ignored: input_length. If input_length are not expected by `Wav2Vec2ForCTC.forward`,  you can safely ignore this message.\n",
      "***** Running Evaluation *****\n",
      "  Num examples = 1680\n",
      "  Batch size = 8\n"
     ]
    },
    {
     "name": "stdout",
     "output_type": "stream",
     "text": [
      "{'loss': 0.1243, 'learning_rate': 7.489239598278336e-05, 'epoch': 9.04}\n"
     ]
    },
    {
     "data": {
      "application/vnd.jupyter.widget-view+json": {
       "model_id": "57f9617b239d4e4885d1a5af859b15c9",
       "version_major": 2,
       "version_minor": 0
      },
      "text/plain": [
       "  0%|          | 0/210 [00:00<?, ?it/s]"
      ]
     },
     "metadata": {},
     "output_type": "display_data"
    },
    {
     "name": "stderr",
     "output_type": "stream",
     "text": [
      "Saving model checkpoint to D:/Users/andrew/uni_work/thesis/code/timit_test\\checkpoint-4500\n",
      "Configuration saved in D:/Users/andrew/uni_work/thesis/code/timit_test\\checkpoint-4500\\config.json\n"
     ]
    },
    {
     "name": "stdout",
     "output_type": "stream",
     "text": [
      "{'eval_loss': 0.516579270362854, 'eval_wer': 0.37729997932602855, 'eval_runtime': 371.3929, 'eval_samples_per_second': 4.524, 'eval_steps_per_second': 0.565, 'epoch': 9.04}\n"
     ]
    },
    {
     "name": "stderr",
     "output_type": "stream",
     "text": [
      "Model weights saved in D:/Users/andrew/uni_work/thesis/code/timit_test\\checkpoint-4500\\pytorch_model.bin\n",
      "Feature extractor saved in D:/Users/andrew/uni_work/thesis/code/timit_test\\checkpoint-4500\\preprocessor_config.json\n",
      "Deleting older checkpoint [D:\\Users\\andrew\\uni_work\\thesis\\code\\timit_test\\checkpoint-3500] due to args.save_total_limit\n",
      "d:\\Users\\andrew\\anaconda3\\lib\\site-packages\\torch\\_dynamo\\eval_frame.py:632: UserWarning: torch.utils.checkpoint: the use_reentrant parameter should be passed explicitly. In version 2.5 we will raise an exception if use_reentrant is not passed. use_reentrant=False is recommended, but if you need to preserve the current default behavior, you can pass use_reentrant=True. Refer to docs for more details on the differences between the two variants.\n",
      "  return fn(*args, **kwargs)\n",
      "The following columns in the evaluation set  don't have a corresponding argument in `Wav2Vec2ForCTC.forward` and have been ignored: input_length. If input_length are not expected by `Wav2Vec2ForCTC.forward`,  you can safely ignore this message.\n",
      "***** Running Evaluation *****\n",
      "  Num examples = 1680\n",
      "  Batch size = 8\n"
     ]
    },
    {
     "name": "stdout",
     "output_type": "stream",
     "text": [
      "{'loss': 0.1101, 'learning_rate': 7.130559540889527e-05, 'epoch': 10.04}\n"
     ]
    },
    {
     "data": {
      "application/vnd.jupyter.widget-view+json": {
       "model_id": "8f1397cfd07a457ca71b1fad00ac4921",
       "version_major": 2,
       "version_minor": 0
      },
      "text/plain": [
       "  0%|          | 0/210 [00:00<?, ?it/s]"
      ]
     },
     "metadata": {},
     "output_type": "display_data"
    },
    {
     "name": "stderr",
     "output_type": "stream",
     "text": [
      "Saving model checkpoint to D:/Users/andrew/uni_work/thesis/code/timit_test\\checkpoint-5000\n",
      "Configuration saved in D:/Users/andrew/uni_work/thesis/code/timit_test\\checkpoint-5000\\config.json\n"
     ]
    },
    {
     "name": "stdout",
     "output_type": "stream",
     "text": [
      "{'eval_loss': 0.49244338274002075, 'eval_wer': 0.3744056233202398, 'eval_runtime': 374.0153, 'eval_samples_per_second': 4.492, 'eval_steps_per_second': 0.561, 'epoch': 10.04}\n"
     ]
    },
    {
     "name": "stderr",
     "output_type": "stream",
     "text": [
      "Model weights saved in D:/Users/andrew/uni_work/thesis/code/timit_test\\checkpoint-5000\\pytorch_model.bin\n",
      "Feature extractor saved in D:/Users/andrew/uni_work/thesis/code/timit_test\\checkpoint-5000\\preprocessor_config.json\n",
      "Deleting older checkpoint [D:\\Users\\andrew\\uni_work\\thesis\\code\\timit_test\\checkpoint-4000] due to args.save_total_limit\n",
      "d:\\Users\\andrew\\anaconda3\\lib\\site-packages\\torch\\_dynamo\\eval_frame.py:632: UserWarning: torch.utils.checkpoint: the use_reentrant parameter should be passed explicitly. In version 2.5 we will raise an exception if use_reentrant is not passed. use_reentrant=False is recommended, but if you need to preserve the current default behavior, you can pass use_reentrant=True. Refer to docs for more details on the differences between the two variants.\n",
      "  return fn(*args, **kwargs)\n",
      "The following columns in the evaluation set  don't have a corresponding argument in `Wav2Vec2ForCTC.forward` and have been ignored: input_length. If input_length are not expected by `Wav2Vec2ForCTC.forward`,  you can safely ignore this message.\n",
      "***** Running Evaluation *****\n",
      "  Num examples = 1680\n",
      "  Batch size = 8\n"
     ]
    },
    {
     "name": "stdout",
     "output_type": "stream",
     "text": [
      "{'loss': 0.0979, 'learning_rate': 6.771879483500718e-05, 'epoch': 11.04}\n"
     ]
    },
    {
     "data": {
      "application/vnd.jupyter.widget-view+json": {
       "model_id": "79f6cc67d7d048e5acebab03cc356757",
       "version_major": 2,
       "version_minor": 0
      },
      "text/plain": [
       "  0%|          | 0/210 [00:00<?, ?it/s]"
      ]
     },
     "metadata": {},
     "output_type": "display_data"
    },
    {
     "name": "stderr",
     "output_type": "stream",
     "text": [
      "Saving model checkpoint to D:/Users/andrew/uni_work/thesis/code/timit_test\\checkpoint-5500\n",
      "Configuration saved in D:/Users/andrew/uni_work/thesis/code/timit_test\\checkpoint-5500\\config.json\n"
     ]
    },
    {
     "name": "stdout",
     "output_type": "stream",
     "text": [
      "{'eval_loss': 0.45921456813812256, 'eval_wer': 0.3734408379849769, 'eval_runtime': 371.7843, 'eval_samples_per_second': 4.519, 'eval_steps_per_second': 0.565, 'epoch': 11.04}\n"
     ]
    },
    {
     "name": "stderr",
     "output_type": "stream",
     "text": [
      "Model weights saved in D:/Users/andrew/uni_work/thesis/code/timit_test\\checkpoint-5500\\pytorch_model.bin\n",
      "Feature extractor saved in D:/Users/andrew/uni_work/thesis/code/timit_test\\checkpoint-5500\\preprocessor_config.json\n",
      "Deleting older checkpoint [D:\\Users\\andrew\\uni_work\\thesis\\code\\timit_test\\checkpoint-4500] due to args.save_total_limit\n",
      "d:\\Users\\andrew\\anaconda3\\lib\\site-packages\\torch\\_dynamo\\eval_frame.py:632: UserWarning: torch.utils.checkpoint: the use_reentrant parameter should be passed explicitly. In version 2.5 we will raise an exception if use_reentrant is not passed. use_reentrant=False is recommended, but if you need to preserve the current default behavior, you can pass use_reentrant=True. Refer to docs for more details on the differences between the two variants.\n",
      "  return fn(*args, **kwargs)\n",
      "The following columns in the evaluation set  don't have a corresponding argument in `Wav2Vec2ForCTC.forward` and have been ignored: input_length. If input_length are not expected by `Wav2Vec2ForCTC.forward`,  you can safely ignore this message.\n",
      "***** Running Evaluation *****\n",
      "  Num examples = 1680\n",
      "  Batch size = 8\n"
     ]
    },
    {
     "name": "stdout",
     "output_type": "stream",
     "text": [
      "{'loss': 0.0923, 'learning_rate': 6.413199426111909e-05, 'epoch': 12.05}\n"
     ]
    },
    {
     "data": {
      "application/vnd.jupyter.widget-view+json": {
       "model_id": "2cffaedb5f054150a283a8c6285f01aa",
       "version_major": 2,
       "version_minor": 0
      },
      "text/plain": [
       "  0%|          | 0/210 [00:00<?, ?it/s]"
      ]
     },
     "metadata": {},
     "output_type": "display_data"
    },
    {
     "name": "stderr",
     "output_type": "stream",
     "text": [
      "Saving model checkpoint to D:/Users/andrew/uni_work/thesis/code/timit_test\\checkpoint-6000\n",
      "Configuration saved in D:/Users/andrew/uni_work/thesis/code/timit_test\\checkpoint-6000\\config.json\n"
     ]
    },
    {
     "name": "stdout",
     "output_type": "stream",
     "text": [
      "{'eval_loss': 0.5010530948638916, 'eval_wer': 0.36965060988215837, 'eval_runtime': 371.1671, 'eval_samples_per_second': 4.526, 'eval_steps_per_second': 0.566, 'epoch': 12.05}\n"
     ]
    },
    {
     "name": "stderr",
     "output_type": "stream",
     "text": [
      "Model weights saved in D:/Users/andrew/uni_work/thesis/code/timit_test\\checkpoint-6000\\pytorch_model.bin\n",
      "Feature extractor saved in D:/Users/andrew/uni_work/thesis/code/timit_test\\checkpoint-6000\\preprocessor_config.json\n",
      "Deleting older checkpoint [D:\\Users\\andrew\\uni_work\\thesis\\code\\timit_test\\checkpoint-5000] due to args.save_total_limit\n",
      "d:\\Users\\andrew\\anaconda3\\lib\\site-packages\\torch\\_dynamo\\eval_frame.py:632: UserWarning: torch.utils.checkpoint: the use_reentrant parameter should be passed explicitly. In version 2.5 we will raise an exception if use_reentrant is not passed. use_reentrant=False is recommended, but if you need to preserve the current default behavior, you can pass use_reentrant=True. Refer to docs for more details on the differences between the two variants.\n",
      "  return fn(*args, **kwargs)\n",
      "The following columns in the evaluation set  don't have a corresponding argument in `Wav2Vec2ForCTC.forward` and have been ignored: input_length. If input_length are not expected by `Wav2Vec2ForCTC.forward`,  you can safely ignore this message.\n",
      "***** Running Evaluation *****\n",
      "  Num examples = 1680\n",
      "  Batch size = 8\n"
     ]
    },
    {
     "name": "stdout",
     "output_type": "stream",
     "text": [
      "{'loss': 0.0832, 'learning_rate': 6.054519368723099e-05, 'epoch': 13.05}\n"
     ]
    },
    {
     "data": {
      "application/vnd.jupyter.widget-view+json": {
       "model_id": "16a72621e6be4de1a6f3f2a4b38b34ce",
       "version_major": 2,
       "version_minor": 0
      },
      "text/plain": [
       "  0%|          | 0/210 [00:00<?, ?it/s]"
      ]
     },
     "metadata": {},
     "output_type": "display_data"
    },
    {
     "name": "stderr",
     "output_type": "stream",
     "text": [
      "Saving model checkpoint to D:/Users/andrew/uni_work/thesis/code/timit_test\\checkpoint-6500\n",
      "Configuration saved in D:/Users/andrew/uni_work/thesis/code/timit_test\\checkpoint-6500\\config.json\n"
     ]
    },
    {
     "name": "stdout",
     "output_type": "stream",
     "text": [
      "{'eval_loss': 0.4927731454372406, 'eval_wer': 0.3691682172145269, 'eval_runtime': 371.1475, 'eval_samples_per_second': 4.527, 'eval_steps_per_second': 0.566, 'epoch': 13.05}\n"
     ]
    },
    {
     "name": "stderr",
     "output_type": "stream",
     "text": [
      "Model weights saved in D:/Users/andrew/uni_work/thesis/code/timit_test\\checkpoint-6500\\pytorch_model.bin\n",
      "Feature extractor saved in D:/Users/andrew/uni_work/thesis/code/timit_test\\checkpoint-6500\\preprocessor_config.json\n",
      "Deleting older checkpoint [D:\\Users\\andrew\\uni_work\\thesis\\code\\timit_test\\checkpoint-5500] due to args.save_total_limit\n",
      "d:\\Users\\andrew\\anaconda3\\lib\\site-packages\\torch\\_dynamo\\eval_frame.py:632: UserWarning: torch.utils.checkpoint: the use_reentrant parameter should be passed explicitly. In version 2.5 we will raise an exception if use_reentrant is not passed. use_reentrant=False is recommended, but if you need to preserve the current default behavior, you can pass use_reentrant=True. Refer to docs for more details on the differences between the two variants.\n",
      "  return fn(*args, **kwargs)\n",
      "The following columns in the evaluation set  don't have a corresponding argument in `Wav2Vec2ForCTC.forward` and have been ignored: input_length. If input_length are not expected by `Wav2Vec2ForCTC.forward`,  you can safely ignore this message.\n",
      "***** Running Evaluation *****\n",
      "  Num examples = 1680\n",
      "  Batch size = 8\n"
     ]
    },
    {
     "name": "stdout",
     "output_type": "stream",
     "text": [
      "{'loss': 0.0758, 'learning_rate': 5.69583931133429e-05, 'epoch': 14.06}\n"
     ]
    },
    {
     "data": {
      "application/vnd.jupyter.widget-view+json": {
       "model_id": "29c4cab7dddd49e7b7013bacdb62ed24",
       "version_major": 2,
       "version_minor": 0
      },
      "text/plain": [
       "  0%|          | 0/210 [00:00<?, ?it/s]"
      ]
     },
     "metadata": {},
     "output_type": "display_data"
    },
    {
     "name": "stderr",
     "output_type": "stream",
     "text": [
      "Saving model checkpoint to D:/Users/andrew/uni_work/thesis/code/timit_test\\checkpoint-7000\n",
      "Configuration saved in D:/Users/andrew/uni_work/thesis/code/timit_test\\checkpoint-7000\\config.json\n"
     ]
    },
    {
     "name": "stdout",
     "output_type": "stream",
     "text": [
      "{'eval_loss': 0.5172908306121826, 'eval_wer': 0.37371649093790915, 'eval_runtime': 373.8862, 'eval_samples_per_second': 4.493, 'eval_steps_per_second': 0.562, 'epoch': 14.06}\n"
     ]
    },
    {
     "name": "stderr",
     "output_type": "stream",
     "text": [
      "Model weights saved in D:/Users/andrew/uni_work/thesis/code/timit_test\\checkpoint-7000\\pytorch_model.bin\n",
      "Feature extractor saved in D:/Users/andrew/uni_work/thesis/code/timit_test\\checkpoint-7000\\preprocessor_config.json\n",
      "Deleting older checkpoint [D:\\Users\\andrew\\uni_work\\thesis\\code\\timit_test\\checkpoint-6000] due to args.save_total_limit\n",
      "d:\\Users\\andrew\\anaconda3\\lib\\site-packages\\torch\\_dynamo\\eval_frame.py:632: UserWarning: torch.utils.checkpoint: the use_reentrant parameter should be passed explicitly. In version 2.5 we will raise an exception if use_reentrant is not passed. use_reentrant=False is recommended, but if you need to preserve the current default behavior, you can pass use_reentrant=True. Refer to docs for more details on the differences between the two variants.\n",
      "  return fn(*args, **kwargs)\n",
      "The following columns in the evaluation set  don't have a corresponding argument in `Wav2Vec2ForCTC.forward` and have been ignored: input_length. If input_length are not expected by `Wav2Vec2ForCTC.forward`,  you can safely ignore this message.\n",
      "***** Running Evaluation *****\n",
      "  Num examples = 1680\n",
      "  Batch size = 8\n"
     ]
    },
    {
     "name": "stdout",
     "output_type": "stream",
     "text": [
      "{'loss': 0.0671, 'learning_rate': 5.337159253945481e-05, 'epoch': 15.06}\n"
     ]
    },
    {
     "data": {
      "application/vnd.jupyter.widget-view+json": {
       "model_id": "d4081fb4c2fb4f2690482fcb8b3354ad",
       "version_major": 2,
       "version_minor": 0
      },
      "text/plain": [
       "  0%|          | 0/210 [00:00<?, ?it/s]"
      ]
     },
     "metadata": {},
     "output_type": "display_data"
    },
    {
     "name": "stderr",
     "output_type": "stream",
     "text": [
      "Saving model checkpoint to D:/Users/andrew/uni_work/thesis/code/timit_test\\checkpoint-7500\n",
      "Configuration saved in D:/Users/andrew/uni_work/thesis/code/timit_test\\checkpoint-7500\\config.json\n"
     ]
    },
    {
     "name": "stdout",
     "output_type": "stream",
     "text": [
      "{'eval_loss': 0.5023950934410095, 'eval_wer': 0.36772103921163257, 'eval_runtime': 372.7424, 'eval_samples_per_second': 4.507, 'eval_steps_per_second': 0.563, 'epoch': 15.06}\n"
     ]
    },
    {
     "name": "stderr",
     "output_type": "stream",
     "text": [
      "Model weights saved in D:/Users/andrew/uni_work/thesis/code/timit_test\\checkpoint-7500\\pytorch_model.bin\n",
      "Feature extractor saved in D:/Users/andrew/uni_work/thesis/code/timit_test\\checkpoint-7500\\preprocessor_config.json\n",
      "Deleting older checkpoint [D:\\Users\\andrew\\uni_work\\thesis\\code\\timit_test\\checkpoint-6500] due to args.save_total_limit\n",
      "d:\\Users\\andrew\\anaconda3\\lib\\site-packages\\torch\\_dynamo\\eval_frame.py:632: UserWarning: torch.utils.checkpoint: the use_reentrant parameter should be passed explicitly. In version 2.5 we will raise an exception if use_reentrant is not passed. use_reentrant=False is recommended, but if you need to preserve the current default behavior, you can pass use_reentrant=True. Refer to docs for more details on the differences between the two variants.\n",
      "  return fn(*args, **kwargs)\n",
      "The following columns in the evaluation set  don't have a corresponding argument in `Wav2Vec2ForCTC.forward` and have been ignored: input_length. If input_length are not expected by `Wav2Vec2ForCTC.forward`,  you can safely ignore this message.\n",
      "***** Running Evaluation *****\n",
      "  Num examples = 1680\n",
      "  Batch size = 8\n"
     ]
    },
    {
     "name": "stdout",
     "output_type": "stream",
     "text": [
      "{'loss': 0.0625, 'learning_rate': 4.978479196556672e-05, 'epoch': 16.06}\n"
     ]
    },
    {
     "data": {
      "application/vnd.jupyter.widget-view+json": {
       "model_id": "1a9f5d8f8fee4bf7b5fbced9c30470ef",
       "version_major": 2,
       "version_minor": 0
      },
      "text/plain": [
       "  0%|          | 0/210 [00:00<?, ?it/s]"
      ]
     },
     "metadata": {},
     "output_type": "display_data"
    },
    {
     "name": "stderr",
     "output_type": "stream",
     "text": [
      "Saving model checkpoint to D:/Users/andrew/uni_work/thesis/code/timit_test\\checkpoint-8000\n",
      "Configuration saved in D:/Users/andrew/uni_work/thesis/code/timit_test\\checkpoint-8000\\config.json\n"
     ]
    },
    {
     "name": "stdout",
     "output_type": "stream",
     "text": [
      "{'eval_loss': 0.570838451385498, 'eval_wer': 0.37888498380538904, 'eval_runtime': 372.4563, 'eval_samples_per_second': 4.511, 'eval_steps_per_second': 0.564, 'epoch': 16.06}\n"
     ]
    },
    {
     "name": "stderr",
     "output_type": "stream",
     "text": [
      "Model weights saved in D:/Users/andrew/uni_work/thesis/code/timit_test\\checkpoint-8000\\pytorch_model.bin\n",
      "Feature extractor saved in D:/Users/andrew/uni_work/thesis/code/timit_test\\checkpoint-8000\\preprocessor_config.json\n",
      "Deleting older checkpoint [D:\\Users\\andrew\\uni_work\\thesis\\code\\timit_test\\checkpoint-7000] due to args.save_total_limit\n",
      "d:\\Users\\andrew\\anaconda3\\lib\\site-packages\\torch\\_dynamo\\eval_frame.py:632: UserWarning: torch.utils.checkpoint: the use_reentrant parameter should be passed explicitly. In version 2.5 we will raise an exception if use_reentrant is not passed. use_reentrant=False is recommended, but if you need to preserve the current default behavior, you can pass use_reentrant=True. Refer to docs for more details on the differences between the two variants.\n",
      "  return fn(*args, **kwargs)\n",
      "The following columns in the evaluation set  don't have a corresponding argument in `Wav2Vec2ForCTC.forward` and have been ignored: input_length. If input_length are not expected by `Wav2Vec2ForCTC.forward`,  you can safely ignore this message.\n",
      "***** Running Evaluation *****\n",
      "  Num examples = 1680\n",
      "  Batch size = 8\n"
     ]
    },
    {
     "name": "stdout",
     "output_type": "stream",
     "text": [
      "{'loss': 0.0561, 'learning_rate': 4.619799139167862e-05, 'epoch': 17.07}\n"
     ]
    },
    {
     "data": {
      "application/vnd.jupyter.widget-view+json": {
       "model_id": "6582a1303ef4450e8c8e2d633611c821",
       "version_major": 2,
       "version_minor": 0
      },
      "text/plain": [
       "  0%|          | 0/210 [00:00<?, ?it/s]"
      ]
     },
     "metadata": {},
     "output_type": "display_data"
    },
    {
     "name": "stderr",
     "output_type": "stream",
     "text": [
      "Saving model checkpoint to D:/Users/andrew/uni_work/thesis/code/timit_test\\checkpoint-8500\n",
      "Configuration saved in D:/Users/andrew/uni_work/thesis/code/timit_test\\checkpoint-8500\\config.json\n"
     ]
    },
    {
     "name": "stdout",
     "output_type": "stream",
     "text": [
      "{'eval_loss': 0.5916812419891357, 'eval_wer': 0.3770243263730963, 'eval_runtime': 373.5777, 'eval_samples_per_second': 4.497, 'eval_steps_per_second': 0.562, 'epoch': 17.07}\n"
     ]
    },
    {
     "name": "stderr",
     "output_type": "stream",
     "text": [
      "Model weights saved in D:/Users/andrew/uni_work/thesis/code/timit_test\\checkpoint-8500\\pytorch_model.bin\n",
      "Feature extractor saved in D:/Users/andrew/uni_work/thesis/code/timit_test\\checkpoint-8500\\preprocessor_config.json\n",
      "Deleting older checkpoint [D:\\Users\\andrew\\uni_work\\thesis\\code\\timit_test\\checkpoint-7500] due to args.save_total_limit\n",
      "d:\\Users\\andrew\\anaconda3\\lib\\site-packages\\torch\\_dynamo\\eval_frame.py:632: UserWarning: torch.utils.checkpoint: the use_reentrant parameter should be passed explicitly. In version 2.5 we will raise an exception if use_reentrant is not passed. use_reentrant=False is recommended, but if you need to preserve the current default behavior, you can pass use_reentrant=True. Refer to docs for more details on the differences between the two variants.\n",
      "  return fn(*args, **kwargs)\n",
      "The following columns in the evaluation set  don't have a corresponding argument in `Wav2Vec2ForCTC.forward` and have been ignored: input_length. If input_length are not expected by `Wav2Vec2ForCTC.forward`,  you can safely ignore this message.\n",
      "***** Running Evaluation *****\n",
      "  Num examples = 1680\n",
      "  Batch size = 8\n"
     ]
    },
    {
     "name": "stdout",
     "output_type": "stream",
     "text": [
      "{'loss': 0.0579, 'learning_rate': 4.261119081779053e-05, 'epoch': 18.07}\n"
     ]
    },
    {
     "data": {
      "application/vnd.jupyter.widget-view+json": {
       "model_id": "c7e69cd0661f447caa94d9d78f4dde21",
       "version_major": 2,
       "version_minor": 0
      },
      "text/plain": [
       "  0%|          | 0/210 [00:00<?, ?it/s]"
      ]
     },
     "metadata": {},
     "output_type": "display_data"
    },
    {
     "name": "stderr",
     "output_type": "stream",
     "text": [
      "Saving model checkpoint to D:/Users/andrew/uni_work/thesis/code/timit_test\\checkpoint-9000\n",
      "Configuration saved in D:/Users/andrew/uni_work/thesis/code/timit_test\\checkpoint-9000\\config.json\n"
     ]
    },
    {
     "name": "stdout",
     "output_type": "stream",
     "text": [
      "{'eval_loss': 0.5619246959686279, 'eval_wer': 0.36138102129419064, 'eval_runtime': 371.8135, 'eval_samples_per_second': 4.518, 'eval_steps_per_second': 0.565, 'epoch': 18.07}\n"
     ]
    },
    {
     "name": "stderr",
     "output_type": "stream",
     "text": [
      "Model weights saved in D:/Users/andrew/uni_work/thesis/code/timit_test\\checkpoint-9000\\pytorch_model.bin\n",
      "Feature extractor saved in D:/Users/andrew/uni_work/thesis/code/timit_test\\checkpoint-9000\\preprocessor_config.json\n",
      "Deleting older checkpoint [D:\\Users\\andrew\\uni_work\\thesis\\code\\timit_test\\checkpoint-8000] due to args.save_total_limit\n",
      "d:\\Users\\andrew\\anaconda3\\lib\\site-packages\\torch\\_dynamo\\eval_frame.py:632: UserWarning: torch.utils.checkpoint: the use_reentrant parameter should be passed explicitly. In version 2.5 we will raise an exception if use_reentrant is not passed. use_reentrant=False is recommended, but if you need to preserve the current default behavior, you can pass use_reentrant=True. Refer to docs for more details on the differences between the two variants.\n",
      "  return fn(*args, **kwargs)\n",
      "The following columns in the evaluation set  don't have a corresponding argument in `Wav2Vec2ForCTC.forward` and have been ignored: input_length. If input_length are not expected by `Wav2Vec2ForCTC.forward`,  you can safely ignore this message.\n",
      "***** Running Evaluation *****\n",
      "  Num examples = 1680\n",
      "  Batch size = 8\n"
     ]
    },
    {
     "name": "stdout",
     "output_type": "stream",
     "text": [
      "{'loss': 0.0469, 'learning_rate': 3.9024390243902444e-05, 'epoch': 19.08}\n"
     ]
    },
    {
     "data": {
      "application/vnd.jupyter.widget-view+json": {
       "model_id": "de5e5b6bdbcd477bbacc730fd7e78e8d",
       "version_major": 2,
       "version_minor": 0
      },
      "text/plain": [
       "  0%|          | 0/210 [00:00<?, ?it/s]"
      ]
     },
     "metadata": {},
     "output_type": "display_data"
    },
    {
     "name": "stderr",
     "output_type": "stream",
     "text": [
      "Saving model checkpoint to D:/Users/andrew/uni_work/thesis/code/timit_test\\checkpoint-9500\n",
      "Configuration saved in D:/Users/andrew/uni_work/thesis/code/timit_test\\checkpoint-9500\\config.json\n"
     ]
    },
    {
     "name": "stdout",
     "output_type": "stream",
     "text": [
      "{'eval_loss': 0.5189175009727478, 'eval_wer': 0.3571773137619737, 'eval_runtime': 420.7017, 'eval_samples_per_second': 3.993, 'eval_steps_per_second': 0.499, 'epoch': 19.08}\n"
     ]
    },
    {
     "name": "stderr",
     "output_type": "stream",
     "text": [
      "Model weights saved in D:/Users/andrew/uni_work/thesis/code/timit_test\\checkpoint-9500\\pytorch_model.bin\n",
      "Feature extractor saved in D:/Users/andrew/uni_work/thesis/code/timit_test\\checkpoint-9500\\preprocessor_config.json\n",
      "Deleting older checkpoint [D:\\Users\\andrew\\uni_work\\thesis\\code\\timit_test\\checkpoint-8500] due to args.save_total_limit\n",
      "d:\\Users\\andrew\\anaconda3\\lib\\site-packages\\torch\\_dynamo\\eval_frame.py:632: UserWarning: torch.utils.checkpoint: the use_reentrant parameter should be passed explicitly. In version 2.5 we will raise an exception if use_reentrant is not passed. use_reentrant=False is recommended, but if you need to preserve the current default behavior, you can pass use_reentrant=True. Refer to docs for more details on the differences between the two variants.\n",
      "  return fn(*args, **kwargs)\n",
      "The following columns in the evaluation set  don't have a corresponding argument in `Wav2Vec2ForCTC.forward` and have been ignored: input_length. If input_length are not expected by `Wav2Vec2ForCTC.forward`,  you can safely ignore this message.\n",
      "***** Running Evaluation *****\n",
      "  Num examples = 1680\n",
      "  Batch size = 8\n"
     ]
    },
    {
     "name": "stdout",
     "output_type": "stream",
     "text": [
      "{'loss': 0.0431, 'learning_rate': 3.543758967001435e-05, 'epoch': 20.08}\n"
     ]
    },
    {
     "data": {
      "application/vnd.jupyter.widget-view+json": {
       "model_id": "c5dd1721bc9a44be8f7624923c349f56",
       "version_major": 2,
       "version_minor": 0
      },
      "text/plain": [
       "  0%|          | 0/210 [00:00<?, ?it/s]"
      ]
     },
     "metadata": {},
     "output_type": "display_data"
    },
    {
     "name": "stderr",
     "output_type": "stream",
     "text": [
      "Saving model checkpoint to D:/Users/andrew/uni_work/thesis/code/timit_test\\checkpoint-10000\n",
      "Configuration saved in D:/Users/andrew/uni_work/thesis/code/timit_test\\checkpoint-10000\\config.json\n"
     ]
    },
    {
     "name": "stdout",
     "output_type": "stream",
     "text": [
      "{'eval_loss': 0.5319012403488159, 'eval_wer': 0.3535938253738543, 'eval_runtime': 473.1091, 'eval_samples_per_second': 3.551, 'eval_steps_per_second': 0.444, 'epoch': 20.08}\n"
     ]
    },
    {
     "name": "stderr",
     "output_type": "stream",
     "text": [
      "Model weights saved in D:/Users/andrew/uni_work/thesis/code/timit_test\\checkpoint-10000\\pytorch_model.bin\n",
      "Feature extractor saved in D:/Users/andrew/uni_work/thesis/code/timit_test\\checkpoint-10000\\preprocessor_config.json\n",
      "Deleting older checkpoint [D:\\Users\\andrew\\uni_work\\thesis\\code\\timit_test\\checkpoint-9000] due to args.save_total_limit\n",
      "d:\\Users\\andrew\\anaconda3\\lib\\site-packages\\torch\\_dynamo\\eval_frame.py:632: UserWarning: torch.utils.checkpoint: the use_reentrant parameter should be passed explicitly. In version 2.5 we will raise an exception if use_reentrant is not passed. use_reentrant=False is recommended, but if you need to preserve the current default behavior, you can pass use_reentrant=True. Refer to docs for more details on the differences between the two variants.\n",
      "  return fn(*args, **kwargs)\n"
     ]
    },
    {
     "ename": "KeyboardInterrupt",
     "evalue": "",
     "output_type": "error",
     "traceback": [
      "\u001b[1;31m---------------------------------------------------------------------------\u001b[0m",
      "\u001b[1;31mKeyboardInterrupt\u001b[0m                         Traceback (most recent call last)",
      "Input \u001b[1;32mIn [29]\u001b[0m, in \u001b[0;36m<cell line: 3>\u001b[1;34m()\u001b[0m\n\u001b[0;32m      1\u001b[0m \u001b[38;5;66;03m### training\u001b[39;00m\n\u001b[1;32m----> 3\u001b[0m \u001b[43mtrainer\u001b[49m\u001b[38;5;241;43m.\u001b[39;49m\u001b[43mtrain\u001b[49m\u001b[43m(\u001b[49m\u001b[43m)\u001b[49m\n",
      "File \u001b[1;32md:\\Users\\andrew\\anaconda3\\lib\\site-packages\\transformers\\trainer.py:1465\u001b[0m, in \u001b[0;36mTrainer.train\u001b[1;34m(self, resume_from_checkpoint, trial, ignore_keys_for_eval, **kwargs)\u001b[0m\n\u001b[0;32m   1463\u001b[0m     optimizer_was_run \u001b[38;5;241m=\u001b[39m scale_before \u001b[38;5;241m<\u001b[39m\u001b[38;5;241m=\u001b[39m scale_after\n\u001b[0;32m   1464\u001b[0m \u001b[38;5;28;01melse\u001b[39;00m:\n\u001b[1;32m-> 1465\u001b[0m     \u001b[38;5;28;43mself\u001b[39;49m\u001b[38;5;241;43m.\u001b[39;49m\u001b[43moptimizer\u001b[49m\u001b[38;5;241;43m.\u001b[39;49m\u001b[43mstep\u001b[49m\u001b[43m(\u001b[49m\u001b[43m)\u001b[49m\n\u001b[0;32m   1467\u001b[0m \u001b[38;5;28;01mif\u001b[39;00m optimizer_was_run \u001b[38;5;129;01mand\u001b[39;00m \u001b[38;5;129;01mnot\u001b[39;00m \u001b[38;5;28mself\u001b[39m\u001b[38;5;241m.\u001b[39mdeepspeed:\n\u001b[0;32m   1468\u001b[0m     \u001b[38;5;28mself\u001b[39m\u001b[38;5;241m.\u001b[39mlr_scheduler\u001b[38;5;241m.\u001b[39mstep()\n",
      "File \u001b[1;32md:\\Users\\andrew\\anaconda3\\lib\\site-packages\\torch\\optim\\lr_scheduler.py:137\u001b[0m, in \u001b[0;36mLRScheduler.__init__.<locals>.patch_track_step_called.<locals>.wrap_step.<locals>.wrapper\u001b[1;34m(*args, **kwargs)\u001b[0m\n\u001b[0;32m    135\u001b[0m opt \u001b[38;5;241m=\u001b[39m opt_ref()\n\u001b[0;32m    136\u001b[0m opt\u001b[38;5;241m.\u001b[39m_opt_called \u001b[38;5;241m=\u001b[39m \u001b[38;5;28;01mTrue\u001b[39;00m  \u001b[38;5;66;03m# type: ignore[union-attr]\u001b[39;00m\n\u001b[1;32m--> 137\u001b[0m \u001b[38;5;28;01mreturn\u001b[39;00m func\u001b[38;5;241m.\u001b[39m\u001b[38;5;21m__get__\u001b[39m(opt, opt\u001b[38;5;241m.\u001b[39m\u001b[38;5;18m__class__\u001b[39m)(\u001b[38;5;241m*\u001b[39margs, \u001b[38;5;241m*\u001b[39m\u001b[38;5;241m*\u001b[39mkwargs)\n",
      "File \u001b[1;32md:\\Users\\andrew\\anaconda3\\lib\\site-packages\\torch\\optim\\optimizer.py:487\u001b[0m, in \u001b[0;36mOptimizer.profile_hook_step.<locals>.wrapper\u001b[1;34m(*args, **kwargs)\u001b[0m\n\u001b[0;32m    482\u001b[0m         \u001b[38;5;28;01melse\u001b[39;00m:\n\u001b[0;32m    483\u001b[0m             \u001b[38;5;28;01mraise\u001b[39;00m \u001b[38;5;167;01mRuntimeError\u001b[39;00m(\n\u001b[0;32m    484\u001b[0m                 \u001b[38;5;124mf\u001b[39m\u001b[38;5;124m\"\u001b[39m\u001b[38;5;132;01m{\u001b[39;00mfunc\u001b[38;5;132;01m}\u001b[39;00m\u001b[38;5;124m must return None or a tuple of (new_args, new_kwargs), but got \u001b[39m\u001b[38;5;132;01m{\u001b[39;00mresult\u001b[38;5;132;01m}\u001b[39;00m\u001b[38;5;124m.\u001b[39m\u001b[38;5;124m\"\u001b[39m\n\u001b[0;32m    485\u001b[0m             )\n\u001b[1;32m--> 487\u001b[0m out \u001b[38;5;241m=\u001b[39m func(\u001b[38;5;241m*\u001b[39margs, \u001b[38;5;241m*\u001b[39m\u001b[38;5;241m*\u001b[39mkwargs)\n\u001b[0;32m    488\u001b[0m \u001b[38;5;28mself\u001b[39m\u001b[38;5;241m.\u001b[39m_optimizer_step_code()\n\u001b[0;32m    490\u001b[0m \u001b[38;5;66;03m# call optimizer step post hooks\u001b[39;00m\n",
      "File \u001b[1;32md:\\Users\\andrew\\anaconda3\\lib\\site-packages\\transformers\\optimization.py:369\u001b[0m, in \u001b[0;36mAdamW.step\u001b[1;34m(self, closure)\u001b[0m\n\u001b[0;32m    366\u001b[0m     bias_correction2 \u001b[38;5;241m=\u001b[39m \u001b[38;5;241m1.0\u001b[39m \u001b[38;5;241m-\u001b[39m beta2 \u001b[38;5;241m*\u001b[39m\u001b[38;5;241m*\u001b[39m state[\u001b[38;5;124m\"\u001b[39m\u001b[38;5;124mstep\u001b[39m\u001b[38;5;124m\"\u001b[39m]\n\u001b[0;32m    367\u001b[0m     step_size \u001b[38;5;241m=\u001b[39m step_size \u001b[38;5;241m*\u001b[39m math\u001b[38;5;241m.\u001b[39msqrt(bias_correction2) \u001b[38;5;241m/\u001b[39m bias_correction1\n\u001b[1;32m--> 369\u001b[0m \u001b[43mp\u001b[49m\u001b[38;5;241;43m.\u001b[39;49m\u001b[43mdata\u001b[49m\u001b[38;5;241;43m.\u001b[39;49m\u001b[43maddcdiv_\u001b[49m\u001b[43m(\u001b[49m\u001b[43mexp_avg\u001b[49m\u001b[43m,\u001b[49m\u001b[43m \u001b[49m\u001b[43mdenom\u001b[49m\u001b[43m,\u001b[49m\u001b[43m \u001b[49m\u001b[43mvalue\u001b[49m\u001b[38;5;241;43m=\u001b[39;49m\u001b[38;5;241;43m-\u001b[39;49m\u001b[43mstep_size\u001b[49m\u001b[43m)\u001b[49m\n\u001b[0;32m    371\u001b[0m \u001b[38;5;66;03m# Just adding the square of the weights to the loss function is *not*\u001b[39;00m\n\u001b[0;32m    372\u001b[0m \u001b[38;5;66;03m# the correct way of using L2 regularization/weight decay with Adam,\u001b[39;00m\n\u001b[0;32m    373\u001b[0m \u001b[38;5;66;03m# since that will interact with the m and v parameters in strange ways.\u001b[39;00m\n\u001b[1;32m   (...)\u001b[0m\n\u001b[0;32m    377\u001b[0m \u001b[38;5;66;03m# of the weights to the loss with plain (non-momentum) SGD.\u001b[39;00m\n\u001b[0;32m    378\u001b[0m \u001b[38;5;66;03m# Add weight decay at the end (fixed version)\u001b[39;00m\n\u001b[0;32m    379\u001b[0m \u001b[38;5;28;01mif\u001b[39;00m group[\u001b[38;5;124m\"\u001b[39m\u001b[38;5;124mweight_decay\u001b[39m\u001b[38;5;124m\"\u001b[39m] \u001b[38;5;241m>\u001b[39m \u001b[38;5;241m0.0\u001b[39m:\n",
      "\u001b[1;31mKeyboardInterrupt\u001b[0m: "
     ]
    }
   ],
   "source": [
    "### training\n",
    "\n",
    "trainer.train()\n"
   ]
  },
  {
   "cell_type": "code",
   "execution_count": null,
   "metadata": {},
   "outputs": [],
   "source": [
    "model.save_pretrained(model_fp)\n",
    "processor = Wav2Vec2Processor.from_pretrained(model_fp)\n",
    "model = Wav2Vec2ForCTC.from_pretrained(model_fp).cuda()"
   ]
  },
  {
   "cell_type": "code",
   "execution_count": null,
   "metadata": {},
   "outputs": [],
   "source": [
    "def map_to_result(batch):\n",
    "  with torch.no_grad():\n",
    "    input_values = torch.tensor(batch[\"input_values\"], device=\"cuda\").unsqueeze(0)\n",
    "    logits = model(input_values).logits\n",
    "\n",
    "  pred_ids = torch.argmax(logits, dim=-1)\n",
    "  batch[\"pred_str\"] = processor.batch_decode(pred_ids)[0]\n",
    "  batch[\"text\"] = processor.decode(batch[\"labels\"], group_tokens=False)\n",
    "  \n",
    "  return batch"
   ]
  },
  {
   "cell_type": "code",
   "execution_count": null,
   "metadata": {},
   "outputs": [],
   "source": [
    "\n",
    "results = timit[\"test\"].map(map_to_result, remove_columns=timit[\"test\"].column_names)\n",
    "print(\"Test WER: {:.3f}\".format(wer_metric.compute(predictions=results[\"pred_str\"], references=results[\"text\"])))\n",
    "\n",
    "show_random_elements(results) # checking\n",
    "\n",
    "#model.to(\"cuda\")\n",
    "\n",
    "#with torch.no_grad():\n",
    "#  logits = model(torch.tensor(timit[\"test\"][:1][\"input_values\"], device=\"cuda\")).logits\n",
    "\n",
    "#pred_ids = torch.argmax(logits, dim=-1)"
   ]
  },
  {
   "cell_type": "code",
   "execution_count": null,
   "metadata": {},
   "outputs": [],
   "source": []
  }
 ],
 "metadata": {
  "kernelspec": {
   "display_name": "base",
   "language": "python",
   "name": "python3"
  },
  "language_info": {
   "codemirror_mode": {
    "name": "ipython",
    "version": 3
   },
   "file_extension": ".py",
   "mimetype": "text/x-python",
   "name": "python",
   "nbconvert_exporter": "python",
   "pygments_lexer": "ipython3",
   "version": "3.9.12"
  }
 },
 "nbformat": 4,
 "nbformat_minor": 2
}
